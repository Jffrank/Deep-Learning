{
 "cells": [
  {
   "cell_type": "markdown",
   "metadata": {},
   "source": [
    "<h2><center>\n",
    "# Deep Learning Course\n",
    "</center></h4> <h4><center>\n",
    " <img src=\"https://d2h0cx97tjks2p.cloudfront.net/blogs/wp-content/uploads/Natural-Language-Processing.jpg\" >\n",
    "\n",
    "\n",
    "# Deep Learning Excercise 08\n",
    "## Analyze how travelers expressed their feelings on Twitter\n",
    "\n",
    "</center></h4>\n",
    "\n",
    "Developed by [Sergio Castelblanco](http://www.linkedin.com/in/sergio-castelblanco/) - [Jhon Gonzalez](http://linkedin.com/in/jhon-franklin-gonzalez-gamboa-b6123230/)\n",
    "\n",
    "Andes University\n",
    "\n",
    "version 2.0, July 15 2018"
   ]
  },
  {
   "cell_type": "markdown",
   "metadata": {},
   "source": [
    "A sentiment analysis job about the problems of each major U.S. airline. \n",
    "Twitter data was scraped from February of 2015 and contributors were \n",
    "asked to first classify positive, negative, and neutral tweets, followed\n",
    "by categorizing negative reasons (such as \"late flight\" or \"rude service\")."
   ]
  },
  {
   "cell_type": "markdown",
   "metadata": {},
   "source": [
    "Our target is to classify a feeling tweet message feelings into three possible categories:\n",
    "\n",
    "* Positive\n",
    "* Neural\n",
    "* Negative\n",
    "\n",
    "We will divide the dataset into train and test and we will recognize the testing tweet feelings\n"
   ]
  },
  {
   "cell_type": "code",
   "execution_count": 2,
   "metadata": {},
   "outputs": [
    {
     "data": {
      "text/html": [
       "<div>\n",
       "<style>\n",
       "    .dataframe thead tr:only-child th {\n",
       "        text-align: right;\n",
       "    }\n",
       "\n",
       "    .dataframe thead th {\n",
       "        text-align: left;\n",
       "    }\n",
       "\n",
       "    .dataframe tbody tr th {\n",
       "        vertical-align: top;\n",
       "    }\n",
       "</style>\n",
       "<table border=\"1\" class=\"dataframe\">\n",
       "  <thead>\n",
       "    <tr style=\"text-align: right;\">\n",
       "      <th></th>\n",
       "      <th>airline_sentiment</th>\n",
       "      <th>airline_sentiment_confidence</th>\n",
       "      <th>negativereason</th>\n",
       "      <th>negativereason_confidence</th>\n",
       "      <th>airline</th>\n",
       "      <th>airline_sentiment_gold</th>\n",
       "      <th>name</th>\n",
       "      <th>negativereason_gold</th>\n",
       "      <th>retweet_count</th>\n",
       "      <th>text</th>\n",
       "      <th>tweet_coord</th>\n",
       "      <th>tweet_created</th>\n",
       "      <th>tweet_location</th>\n",
       "      <th>user_timezone</th>\n",
       "    </tr>\n",
       "    <tr>\n",
       "      <th>tweet_id</th>\n",
       "      <th></th>\n",
       "      <th></th>\n",
       "      <th></th>\n",
       "      <th></th>\n",
       "      <th></th>\n",
       "      <th></th>\n",
       "      <th></th>\n",
       "      <th></th>\n",
       "      <th></th>\n",
       "      <th></th>\n",
       "      <th></th>\n",
       "      <th></th>\n",
       "      <th></th>\n",
       "      <th></th>\n",
       "    </tr>\n",
       "  </thead>\n",
       "  <tbody>\n",
       "    <tr>\n",
       "      <th>570306133677760513</th>\n",
       "      <td>neutral</td>\n",
       "      <td>1.0000</td>\n",
       "      <td>NaN</td>\n",
       "      <td>NaN</td>\n",
       "      <td>Virgin America</td>\n",
       "      <td>NaN</td>\n",
       "      <td>cairdin</td>\n",
       "      <td>NaN</td>\n",
       "      <td>0</td>\n",
       "      <td>@VirginAmerica What @dhepburn said.</td>\n",
       "      <td>NaN</td>\n",
       "      <td>2015-02-24 11:35:52 -0800</td>\n",
       "      <td>NaN</td>\n",
       "      <td>Eastern Time (US &amp; Canada)</td>\n",
       "    </tr>\n",
       "    <tr>\n",
       "      <th>570301130888122368</th>\n",
       "      <td>positive</td>\n",
       "      <td>0.3486</td>\n",
       "      <td>NaN</td>\n",
       "      <td>0.0000</td>\n",
       "      <td>Virgin America</td>\n",
       "      <td>NaN</td>\n",
       "      <td>jnardino</td>\n",
       "      <td>NaN</td>\n",
       "      <td>0</td>\n",
       "      <td>@VirginAmerica plus you've added commercials t...</td>\n",
       "      <td>NaN</td>\n",
       "      <td>2015-02-24 11:15:59 -0800</td>\n",
       "      <td>NaN</td>\n",
       "      <td>Pacific Time (US &amp; Canada)</td>\n",
       "    </tr>\n",
       "    <tr>\n",
       "      <th>570301083672813571</th>\n",
       "      <td>neutral</td>\n",
       "      <td>0.6837</td>\n",
       "      <td>NaN</td>\n",
       "      <td>NaN</td>\n",
       "      <td>Virgin America</td>\n",
       "      <td>NaN</td>\n",
       "      <td>yvonnalynn</td>\n",
       "      <td>NaN</td>\n",
       "      <td>0</td>\n",
       "      <td>@VirginAmerica I didn't today... Must mean I n...</td>\n",
       "      <td>NaN</td>\n",
       "      <td>2015-02-24 11:15:48 -0800</td>\n",
       "      <td>Lets Play</td>\n",
       "      <td>Central Time (US &amp; Canada)</td>\n",
       "    </tr>\n",
       "    <tr>\n",
       "      <th>570301031407624196</th>\n",
       "      <td>negative</td>\n",
       "      <td>1.0000</td>\n",
       "      <td>Bad Flight</td>\n",
       "      <td>0.7033</td>\n",
       "      <td>Virgin America</td>\n",
       "      <td>NaN</td>\n",
       "      <td>jnardino</td>\n",
       "      <td>NaN</td>\n",
       "      <td>0</td>\n",
       "      <td>@VirginAmerica it's really aggressive to blast...</td>\n",
       "      <td>NaN</td>\n",
       "      <td>2015-02-24 11:15:36 -0800</td>\n",
       "      <td>NaN</td>\n",
       "      <td>Pacific Time (US &amp; Canada)</td>\n",
       "    </tr>\n",
       "    <tr>\n",
       "      <th>570300817074462722</th>\n",
       "      <td>negative</td>\n",
       "      <td>1.0000</td>\n",
       "      <td>Can't Tell</td>\n",
       "      <td>1.0000</td>\n",
       "      <td>Virgin America</td>\n",
       "      <td>NaN</td>\n",
       "      <td>jnardino</td>\n",
       "      <td>NaN</td>\n",
       "      <td>0</td>\n",
       "      <td>@VirginAmerica and it's a really big bad thing...</td>\n",
       "      <td>NaN</td>\n",
       "      <td>2015-02-24 11:14:45 -0800</td>\n",
       "      <td>NaN</td>\n",
       "      <td>Pacific Time (US &amp; Canada)</td>\n",
       "    </tr>\n",
       "  </tbody>\n",
       "</table>\n",
       "</div>"
      ],
      "text/plain": [
       "                   airline_sentiment  airline_sentiment_confidence  \\\n",
       "tweet_id                                                             \n",
       "570306133677760513           neutral                        1.0000   \n",
       "570301130888122368          positive                        0.3486   \n",
       "570301083672813571           neutral                        0.6837   \n",
       "570301031407624196          negative                        1.0000   \n",
       "570300817074462722          negative                        1.0000   \n",
       "\n",
       "                   negativereason  negativereason_confidence         airline  \\\n",
       "tweet_id                                                                       \n",
       "570306133677760513            NaN                        NaN  Virgin America   \n",
       "570301130888122368            NaN                     0.0000  Virgin America   \n",
       "570301083672813571            NaN                        NaN  Virgin America   \n",
       "570301031407624196     Bad Flight                     0.7033  Virgin America   \n",
       "570300817074462722     Can't Tell                     1.0000  Virgin America   \n",
       "\n",
       "                   airline_sentiment_gold        name negativereason_gold  \\\n",
       "tweet_id                                                                    \n",
       "570306133677760513                    NaN     cairdin                 NaN   \n",
       "570301130888122368                    NaN    jnardino                 NaN   \n",
       "570301083672813571                    NaN  yvonnalynn                 NaN   \n",
       "570301031407624196                    NaN    jnardino                 NaN   \n",
       "570300817074462722                    NaN    jnardino                 NaN   \n",
       "\n",
       "                    retweet_count  \\\n",
       "tweet_id                            \n",
       "570306133677760513              0   \n",
       "570301130888122368              0   \n",
       "570301083672813571              0   \n",
       "570301031407624196              0   \n",
       "570300817074462722              0   \n",
       "\n",
       "                                                                 text  \\\n",
       "tweet_id                                                                \n",
       "570306133677760513                @VirginAmerica What @dhepburn said.   \n",
       "570301130888122368  @VirginAmerica plus you've added commercials t...   \n",
       "570301083672813571  @VirginAmerica I didn't today... Must mean I n...   \n",
       "570301031407624196  @VirginAmerica it's really aggressive to blast...   \n",
       "570300817074462722  @VirginAmerica and it's a really big bad thing...   \n",
       "\n",
       "                   tweet_coord              tweet_created tweet_location  \\\n",
       "tweet_id                                                                   \n",
       "570306133677760513         NaN  2015-02-24 11:35:52 -0800            NaN   \n",
       "570301130888122368         NaN  2015-02-24 11:15:59 -0800            NaN   \n",
       "570301083672813571         NaN  2015-02-24 11:15:48 -0800      Lets Play   \n",
       "570301031407624196         NaN  2015-02-24 11:15:36 -0800            NaN   \n",
       "570300817074462722         NaN  2015-02-24 11:14:45 -0800            NaN   \n",
       "\n",
       "                                 user_timezone  \n",
       "tweet_id                                        \n",
       "570306133677760513  Eastern Time (US & Canada)  \n",
       "570301130888122368  Pacific Time (US & Canada)  \n",
       "570301083672813571  Central Time (US & Canada)  \n",
       "570301031407624196  Pacific Time (US & Canada)  \n",
       "570300817074462722  Pacific Time (US & Canada)  "
      ]
     },
     "execution_count": 2,
     "metadata": {},
     "output_type": "execute_result"
    }
   ],
   "source": [
    "import pandas as pd\n",
    "import numpy as np\n",
    "\n",
    "%matplotlib inline\n",
    "import matplotlib.pyplot as plt\n",
    "\n",
    "# read the data and set the datetime as the index\n",
    "import zipfile\n",
    "with zipfile.ZipFile('../datasets/Tweets.zip', 'r') as z:\n",
    "    f = z.open('Tweets.csv')\n",
    "    tweets = pd.read_csv(f, index_col=0)\n",
    "\n",
    "tweets.head()"
   ]
  },
  {
   "cell_type": "code",
   "execution_count": 3,
   "metadata": {},
   "outputs": [
    {
     "data": {
      "text/plain": [
       "(14640, 14)"
      ]
     },
     "execution_count": 3,
     "metadata": {},
     "output_type": "execute_result"
    }
   ],
   "source": [
    "tweets.shape"
   ]
  },
  {
   "cell_type": "markdown",
   "metadata": {},
   "source": [
    "### Proportion of tweets with each sentiment"
   ]
  },
  {
   "cell_type": "code",
   "execution_count": 4,
   "metadata": {},
   "outputs": [
    {
     "data": {
      "text/plain": [
       "negative    9178\n",
       "neutral     3099\n",
       "positive    2363\n",
       "Name: airline_sentiment, dtype: int64"
      ]
     },
     "execution_count": 4,
     "metadata": {},
     "output_type": "execute_result"
    }
   ],
   "source": [
    "tweets['airline_sentiment'].value_counts()"
   ]
  },
  {
   "cell_type": "markdown",
   "metadata": {},
   "source": [
    "### Proportion of tweets per airline\n"
   ]
  },
  {
   "cell_type": "code",
   "execution_count": 5,
   "metadata": {},
   "outputs": [
    {
     "data": {
      "text/plain": [
       "United            3822\n",
       "US Airways        2913\n",
       "American          2759\n",
       "Southwest         2420\n",
       "Delta             2222\n",
       "Virgin America     504\n",
       "Name: airline, dtype: int64"
      ]
     },
     "execution_count": 5,
     "metadata": {},
     "output_type": "execute_result"
    }
   ],
   "source": [
    "tweets['airline'].value_counts()"
   ]
  },
  {
   "cell_type": "code",
   "execution_count": 6,
   "metadata": {},
   "outputs": [
    {
     "data": {
      "text/html": [
       "<div>\n",
       "<style>\n",
       "    .dataframe thead tr:only-child th {\n",
       "        text-align: right;\n",
       "    }\n",
       "\n",
       "    .dataframe thead th {\n",
       "        text-align: left;\n",
       "    }\n",
       "\n",
       "    .dataframe tbody tr th {\n",
       "        vertical-align: top;\n",
       "    }\n",
       "</style>\n",
       "<table border=\"1\" class=\"dataframe\">\n",
       "  <thead>\n",
       "    <tr style=\"text-align: right;\">\n",
       "      <th></th>\n",
       "      <th>airline_sentiment</th>\n",
       "      <th>text</th>\n",
       "    </tr>\n",
       "    <tr>\n",
       "      <th>tweet_id</th>\n",
       "      <th></th>\n",
       "      <th></th>\n",
       "    </tr>\n",
       "  </thead>\n",
       "  <tbody>\n",
       "    <tr>\n",
       "      <th>570306133677760513</th>\n",
       "      <td>neutral</td>\n",
       "      <td>@VirginAmerica What @dhepburn said.</td>\n",
       "    </tr>\n",
       "    <tr>\n",
       "      <th>570301130888122368</th>\n",
       "      <td>positive</td>\n",
       "      <td>@VirginAmerica plus you've added commercials t...</td>\n",
       "    </tr>\n",
       "    <tr>\n",
       "      <th>570301083672813571</th>\n",
       "      <td>neutral</td>\n",
       "      <td>@VirginAmerica I didn't today... Must mean I n...</td>\n",
       "    </tr>\n",
       "    <tr>\n",
       "      <th>570301031407624196</th>\n",
       "      <td>negative</td>\n",
       "      <td>@VirginAmerica it's really aggressive to blast...</td>\n",
       "    </tr>\n",
       "    <tr>\n",
       "      <th>570300817074462722</th>\n",
       "      <td>negative</td>\n",
       "      <td>@VirginAmerica and it's a really big bad thing...</td>\n",
       "    </tr>\n",
       "    <tr>\n",
       "      <th>570300767074181121</th>\n",
       "      <td>negative</td>\n",
       "      <td>@VirginAmerica seriously would pay $30 a fligh...</td>\n",
       "    </tr>\n",
       "    <tr>\n",
       "      <th>570300616901320704</th>\n",
       "      <td>positive</td>\n",
       "      <td>@VirginAmerica yes, nearly every time I fly VX...</td>\n",
       "    </tr>\n",
       "    <tr>\n",
       "      <th>570300248553349120</th>\n",
       "      <td>neutral</td>\n",
       "      <td>@VirginAmerica Really missed a prime opportuni...</td>\n",
       "    </tr>\n",
       "    <tr>\n",
       "      <th>570299953286942721</th>\n",
       "      <td>positive</td>\n",
       "      <td>@virginamerica Well, I didn't…but NOW I DO! :-D</td>\n",
       "    </tr>\n",
       "    <tr>\n",
       "      <th>570295459631263746</th>\n",
       "      <td>positive</td>\n",
       "      <td>@VirginAmerica it was amazing, and arrived an ...</td>\n",
       "    </tr>\n",
       "    <tr>\n",
       "      <th>570294189143031808</th>\n",
       "      <td>neutral</td>\n",
       "      <td>@VirginAmerica did you know that suicide is th...</td>\n",
       "    </tr>\n",
       "    <tr>\n",
       "      <th>570289724453216256</th>\n",
       "      <td>positive</td>\n",
       "      <td>@VirginAmerica I &amp;lt;3 pretty graphics. so muc...</td>\n",
       "    </tr>\n",
       "    <tr>\n",
       "      <th>570289584061480960</th>\n",
       "      <td>positive</td>\n",
       "      <td>@VirginAmerica This is such a great deal! Alre...</td>\n",
       "    </tr>\n",
       "    <tr>\n",
       "      <th>570287408438120448</th>\n",
       "      <td>positive</td>\n",
       "      <td>@VirginAmerica @virginmedia I'm flying your #f...</td>\n",
       "    </tr>\n",
       "    <tr>\n",
       "      <th>570285904809598977</th>\n",
       "      <td>positive</td>\n",
       "      <td>@VirginAmerica Thanks!</td>\n",
       "    </tr>\n",
       "    <tr>\n",
       "      <th>570282469121007616</th>\n",
       "      <td>negative</td>\n",
       "      <td>@VirginAmerica SFO-PDX schedule is still MIA.</td>\n",
       "    </tr>\n",
       "    <tr>\n",
       "      <th>570277724385734656</th>\n",
       "      <td>positive</td>\n",
       "      <td>@VirginAmerica So excited for my first cross c...</td>\n",
       "    </tr>\n",
       "    <tr>\n",
       "      <th>570276917301137409</th>\n",
       "      <td>negative</td>\n",
       "      <td>@VirginAmerica  I flew from NYC to SFO last we...</td>\n",
       "    </tr>\n",
       "    <tr>\n",
       "      <th>570270684619923457</th>\n",
       "      <td>positive</td>\n",
       "      <td>I ❤️ flying @VirginAmerica. ☺️👍</td>\n",
       "    </tr>\n",
       "    <tr>\n",
       "      <th>570267956648792064</th>\n",
       "      <td>positive</td>\n",
       "      <td>@VirginAmerica you know what would be amazingl...</td>\n",
       "    </tr>\n",
       "    <tr>\n",
       "      <th>570265883513384960</th>\n",
       "      <td>negative</td>\n",
       "      <td>@VirginAmerica why are your first fares in May...</td>\n",
       "    </tr>\n",
       "    <tr>\n",
       "      <th>570264145116819457</th>\n",
       "      <td>positive</td>\n",
       "      <td>@VirginAmerica I love this graphic. http://t.c...</td>\n",
       "    </tr>\n",
       "    <tr>\n",
       "      <th>570259420287868928</th>\n",
       "      <td>positive</td>\n",
       "      <td>@VirginAmerica I love the hipster innovation. ...</td>\n",
       "    </tr>\n",
       "    <tr>\n",
       "      <th>570258822297579520</th>\n",
       "      <td>neutral</td>\n",
       "      <td>@VirginAmerica will you be making BOS&amp;gt;LAS n...</td>\n",
       "    </tr>\n",
       "    <tr>\n",
       "      <th>570256553502068736</th>\n",
       "      <td>negative</td>\n",
       "      <td>@VirginAmerica you guys messed up my seating.....</td>\n",
       "    </tr>\n",
       "    <tr>\n",
       "      <th>570249102404923392</th>\n",
       "      <td>negative</td>\n",
       "      <td>@VirginAmerica status match program.  I applie...</td>\n",
       "    </tr>\n",
       "    <tr>\n",
       "      <th>570239632807370753</th>\n",
       "      <td>negative</td>\n",
       "      <td>@VirginAmerica What happened 2 ur vegan food o...</td>\n",
       "    </tr>\n",
       "    <tr>\n",
       "      <th>570217831557677057</th>\n",
       "      <td>neutral</td>\n",
       "      <td>@VirginAmerica do you miss me? Don't worry we'...</td>\n",
       "    </tr>\n",
       "    <tr>\n",
       "      <th>570207886493782019</th>\n",
       "      <td>negative</td>\n",
       "      <td>@VirginAmerica amazing to me that we can't get...</td>\n",
       "    </tr>\n",
       "    <tr>\n",
       "      <th>570124596180955136</th>\n",
       "      <td>neutral</td>\n",
       "      <td>@VirginAmerica LAX to EWR - Middle seat on a r...</td>\n",
       "    </tr>\n",
       "    <tr>\n",
       "      <th>...</th>\n",
       "      <td>...</td>\n",
       "      <td>...</td>\n",
       "    </tr>\n",
       "    <tr>\n",
       "      <th>569591765793165312</th>\n",
       "      <td>negative</td>\n",
       "      <td>@AmericanAir I understand the weather issue bu...</td>\n",
       "    </tr>\n",
       "    <tr>\n",
       "      <th>569591730506371072</th>\n",
       "      <td>neutral</td>\n",
       "      <td>@AmericanAir guarantee no retribution? If so, ...</td>\n",
       "    </tr>\n",
       "    <tr>\n",
       "      <th>569591700416393216</th>\n",
       "      <td>negative</td>\n",
       "      <td>@AmericanAir a friend is having flight Cancell...</td>\n",
       "    </tr>\n",
       "    <tr>\n",
       "      <th>569591653121597440</th>\n",
       "      <td>negative</td>\n",
       "      <td>@AmericanAir I used the \"call back\" feature wi...</td>\n",
       "    </tr>\n",
       "    <tr>\n",
       "      <th>569591540944756737</th>\n",
       "      <td>negative</td>\n",
       "      <td>@AmericanAir I need to be at work tomorrow at ...</td>\n",
       "    </tr>\n",
       "    <tr>\n",
       "      <th>569591533617307648</th>\n",
       "      <td>negative</td>\n",
       "      <td>@AmericanAir  ugh Dump us in dfw w/no luggage ...</td>\n",
       "    </tr>\n",
       "    <tr>\n",
       "      <th>569591393540288512</th>\n",
       "      <td>negative</td>\n",
       "      <td>@AmericanAir Cancelled Flights my flight, does...</td>\n",
       "    </tr>\n",
       "    <tr>\n",
       "      <th>569591285150908416</th>\n",
       "      <td>positive</td>\n",
       "      <td>@AmericanAir DMing you now! Big thanks.</td>\n",
       "    </tr>\n",
       "    <tr>\n",
       "      <th>569591136534319105</th>\n",
       "      <td>negative</td>\n",
       "      <td>@AmericanAir 3078 is overweight so you pull 2 ...</td>\n",
       "    </tr>\n",
       "    <tr>\n",
       "      <th>569590988395708416</th>\n",
       "      <td>positive</td>\n",
       "      <td>@AmericanAir I love your company and your staf...</td>\n",
       "    </tr>\n",
       "    <tr>\n",
       "      <th>569590965880532993</th>\n",
       "      <td>negative</td>\n",
       "      <td>@AmericanAir I wait 2+ hrs for CS to call me b...</td>\n",
       "    </tr>\n",
       "    <tr>\n",
       "      <th>569590892085915649</th>\n",
       "      <td>negative</td>\n",
       "      <td>@AmericanAir I've been on hold for 55 mins abo...</td>\n",
       "    </tr>\n",
       "    <tr>\n",
       "      <th>569590191758962688</th>\n",
       "      <td>negative</td>\n",
       "      <td>I just need a place to sleep when I land witho...</td>\n",
       "    </tr>\n",
       "    <tr>\n",
       "      <th>569590013278756865</th>\n",
       "      <td>positive</td>\n",
       "      <td>@AmericanAir Love the new planes for the JFK-L...</td>\n",
       "    </tr>\n",
       "    <tr>\n",
       "      <th>569589959088173056</th>\n",
       "      <td>negative</td>\n",
       "      <td>@AmericanAir Call me Chairman, or call me Emer...</td>\n",
       "    </tr>\n",
       "    <tr>\n",
       "      <th>569589643487928321</th>\n",
       "      <td>positive</td>\n",
       "      <td>@AmericanAir Flight 236 was great. Fantastic c...</td>\n",
       "    </tr>\n",
       "    <tr>\n",
       "      <th>569589460226183168</th>\n",
       "      <td>negative</td>\n",
       "      <td>@AmericanAir Flight 953 NYC-Buenos Aires has b...</td>\n",
       "    </tr>\n",
       "    <tr>\n",
       "      <th>569588816438169600</th>\n",
       "      <td>negative</td>\n",
       "      <td>@AmericanAir Flight Cancelled Flightled, can't...</td>\n",
       "    </tr>\n",
       "    <tr>\n",
       "      <th>569588651925098496</th>\n",
       "      <td>positive</td>\n",
       "      <td>Thank you. “@AmericanAir: @jlhalldc Customer R...</td>\n",
       "    </tr>\n",
       "    <tr>\n",
       "      <th>569588591602458624</th>\n",
       "      <td>negative</td>\n",
       "      <td>@AmericanAir How do I change my flight if the ...</td>\n",
       "    </tr>\n",
       "    <tr>\n",
       "      <th>569588473050611712</th>\n",
       "      <td>positive</td>\n",
       "      <td>@AmericanAir Thanks! He is.</td>\n",
       "    </tr>\n",
       "    <tr>\n",
       "      <th>569588464896876545</th>\n",
       "      <td>negative</td>\n",
       "      <td>@AmericanAir thx for nothing on getting us out...</td>\n",
       "    </tr>\n",
       "    <tr>\n",
       "      <th>569587813856841728</th>\n",
       "      <td>neutral</td>\n",
       "      <td>“@AmericanAir: @TilleyMonsta George, that does...</td>\n",
       "    </tr>\n",
       "    <tr>\n",
       "      <th>569587705937600512</th>\n",
       "      <td>negative</td>\n",
       "      <td>@AmericanAir my flight was Cancelled Flightled...</td>\n",
       "    </tr>\n",
       "    <tr>\n",
       "      <th>569587691626622976</th>\n",
       "      <td>negative</td>\n",
       "      <td>@AmericanAir right on cue with the delays👌</td>\n",
       "    </tr>\n",
       "    <tr>\n",
       "      <th>569587686496825344</th>\n",
       "      <td>positive</td>\n",
       "      <td>@AmericanAir thank you we got on a different f...</td>\n",
       "    </tr>\n",
       "    <tr>\n",
       "      <th>569587371693355008</th>\n",
       "      <td>negative</td>\n",
       "      <td>@AmericanAir leaving over 20 minutes Late Flig...</td>\n",
       "    </tr>\n",
       "    <tr>\n",
       "      <th>569587242672398336</th>\n",
       "      <td>neutral</td>\n",
       "      <td>@AmericanAir Please bring American Airlines to...</td>\n",
       "    </tr>\n",
       "    <tr>\n",
       "      <th>569587188687634433</th>\n",
       "      <td>negative</td>\n",
       "      <td>@AmericanAir you have my money, you change my ...</td>\n",
       "    </tr>\n",
       "    <tr>\n",
       "      <th>569587140490866689</th>\n",
       "      <td>neutral</td>\n",
       "      <td>@AmericanAir we have 8 ppl so we need 2 know h...</td>\n",
       "    </tr>\n",
       "  </tbody>\n",
       "</table>\n",
       "<p>14640 rows × 2 columns</p>\n",
       "</div>"
      ],
      "text/plain": [
       "                   airline_sentiment  \\\n",
       "tweet_id                               \n",
       "570306133677760513           neutral   \n",
       "570301130888122368          positive   \n",
       "570301083672813571           neutral   \n",
       "570301031407624196          negative   \n",
       "570300817074462722          negative   \n",
       "570300767074181121          negative   \n",
       "570300616901320704          positive   \n",
       "570300248553349120           neutral   \n",
       "570299953286942721          positive   \n",
       "570295459631263746          positive   \n",
       "570294189143031808           neutral   \n",
       "570289724453216256          positive   \n",
       "570289584061480960          positive   \n",
       "570287408438120448          positive   \n",
       "570285904809598977          positive   \n",
       "570282469121007616          negative   \n",
       "570277724385734656          positive   \n",
       "570276917301137409          negative   \n",
       "570270684619923457          positive   \n",
       "570267956648792064          positive   \n",
       "570265883513384960          negative   \n",
       "570264145116819457          positive   \n",
       "570259420287868928          positive   \n",
       "570258822297579520           neutral   \n",
       "570256553502068736          negative   \n",
       "570249102404923392          negative   \n",
       "570239632807370753          negative   \n",
       "570217831557677057           neutral   \n",
       "570207886493782019          negative   \n",
       "570124596180955136           neutral   \n",
       "...                              ...   \n",
       "569591765793165312          negative   \n",
       "569591730506371072           neutral   \n",
       "569591700416393216          negative   \n",
       "569591653121597440          negative   \n",
       "569591540944756737          negative   \n",
       "569591533617307648          negative   \n",
       "569591393540288512          negative   \n",
       "569591285150908416          positive   \n",
       "569591136534319105          negative   \n",
       "569590988395708416          positive   \n",
       "569590965880532993          negative   \n",
       "569590892085915649          negative   \n",
       "569590191758962688          negative   \n",
       "569590013278756865          positive   \n",
       "569589959088173056          negative   \n",
       "569589643487928321          positive   \n",
       "569589460226183168          negative   \n",
       "569588816438169600          negative   \n",
       "569588651925098496          positive   \n",
       "569588591602458624          negative   \n",
       "569588473050611712          positive   \n",
       "569588464896876545          negative   \n",
       "569587813856841728           neutral   \n",
       "569587705937600512          negative   \n",
       "569587691626622976          negative   \n",
       "569587686496825344          positive   \n",
       "569587371693355008          negative   \n",
       "569587242672398336           neutral   \n",
       "569587188687634433          negative   \n",
       "569587140490866689           neutral   \n",
       "\n",
       "                                                                 text  \n",
       "tweet_id                                                               \n",
       "570306133677760513                @VirginAmerica What @dhepburn said.  \n",
       "570301130888122368  @VirginAmerica plus you've added commercials t...  \n",
       "570301083672813571  @VirginAmerica I didn't today... Must mean I n...  \n",
       "570301031407624196  @VirginAmerica it's really aggressive to blast...  \n",
       "570300817074462722  @VirginAmerica and it's a really big bad thing...  \n",
       "570300767074181121  @VirginAmerica seriously would pay $30 a fligh...  \n",
       "570300616901320704  @VirginAmerica yes, nearly every time I fly VX...  \n",
       "570300248553349120  @VirginAmerica Really missed a prime opportuni...  \n",
       "570299953286942721    @virginamerica Well, I didn't…but NOW I DO! :-D  \n",
       "570295459631263746  @VirginAmerica it was amazing, and arrived an ...  \n",
       "570294189143031808  @VirginAmerica did you know that suicide is th...  \n",
       "570289724453216256  @VirginAmerica I &lt;3 pretty graphics. so muc...  \n",
       "570289584061480960  @VirginAmerica This is such a great deal! Alre...  \n",
       "570287408438120448  @VirginAmerica @virginmedia I'm flying your #f...  \n",
       "570285904809598977                             @VirginAmerica Thanks!  \n",
       "570282469121007616      @VirginAmerica SFO-PDX schedule is still MIA.  \n",
       "570277724385734656  @VirginAmerica So excited for my first cross c...  \n",
       "570276917301137409  @VirginAmerica  I flew from NYC to SFO last we...  \n",
       "570270684619923457                    I ❤️ flying @VirginAmerica. ☺️👍  \n",
       "570267956648792064  @VirginAmerica you know what would be amazingl...  \n",
       "570265883513384960  @VirginAmerica why are your first fares in May...  \n",
       "570264145116819457  @VirginAmerica I love this graphic. http://t.c...  \n",
       "570259420287868928  @VirginAmerica I love the hipster innovation. ...  \n",
       "570258822297579520  @VirginAmerica will you be making BOS&gt;LAS n...  \n",
       "570256553502068736  @VirginAmerica you guys messed up my seating.....  \n",
       "570249102404923392  @VirginAmerica status match program.  I applie...  \n",
       "570239632807370753  @VirginAmerica What happened 2 ur vegan food o...  \n",
       "570217831557677057  @VirginAmerica do you miss me? Don't worry we'...  \n",
       "570207886493782019  @VirginAmerica amazing to me that we can't get...  \n",
       "570124596180955136  @VirginAmerica LAX to EWR - Middle seat on a r...  \n",
       "...                                                               ...  \n",
       "569591765793165312  @AmericanAir I understand the weather issue bu...  \n",
       "569591730506371072  @AmericanAir guarantee no retribution? If so, ...  \n",
       "569591700416393216  @AmericanAir a friend is having flight Cancell...  \n",
       "569591653121597440  @AmericanAir I used the \"call back\" feature wi...  \n",
       "569591540944756737  @AmericanAir I need to be at work tomorrow at ...  \n",
       "569591533617307648  @AmericanAir  ugh Dump us in dfw w/no luggage ...  \n",
       "569591393540288512  @AmericanAir Cancelled Flights my flight, does...  \n",
       "569591285150908416            @AmericanAir DMing you now! Big thanks.  \n",
       "569591136534319105  @AmericanAir 3078 is overweight so you pull 2 ...  \n",
       "569590988395708416  @AmericanAir I love your company and your staf...  \n",
       "569590965880532993  @AmericanAir I wait 2+ hrs for CS to call me b...  \n",
       "569590892085915649  @AmericanAir I've been on hold for 55 mins abo...  \n",
       "569590191758962688  I just need a place to sleep when I land witho...  \n",
       "569590013278756865  @AmericanAir Love the new planes for the JFK-L...  \n",
       "569589959088173056  @AmericanAir Call me Chairman, or call me Emer...  \n",
       "569589643487928321  @AmericanAir Flight 236 was great. Fantastic c...  \n",
       "569589460226183168  @AmericanAir Flight 953 NYC-Buenos Aires has b...  \n",
       "569588816438169600  @AmericanAir Flight Cancelled Flightled, can't...  \n",
       "569588651925098496  Thank you. “@AmericanAir: @jlhalldc Customer R...  \n",
       "569588591602458624  @AmericanAir How do I change my flight if the ...  \n",
       "569588473050611712                        @AmericanAir Thanks! He is.  \n",
       "569588464896876545  @AmericanAir thx for nothing on getting us out...  \n",
       "569587813856841728  “@AmericanAir: @TilleyMonsta George, that does...  \n",
       "569587705937600512  @AmericanAir my flight was Cancelled Flightled...  \n",
       "569587691626622976         @AmericanAir right on cue with the delays👌  \n",
       "569587686496825344  @AmericanAir thank you we got on a different f...  \n",
       "569587371693355008  @AmericanAir leaving over 20 minutes Late Flig...  \n",
       "569587242672398336  @AmericanAir Please bring American Airlines to...  \n",
       "569587188687634433  @AmericanAir you have my money, you change my ...  \n",
       "569587140490866689  @AmericanAir we have 8 ppl so we need 2 know h...  \n",
       "\n",
       "[14640 rows x 2 columns]"
      ]
     },
     "execution_count": 6,
     "metadata": {},
     "output_type": "execute_result"
    }
   ],
   "source": [
    "tweets[['airline_sentiment', 'text']]"
   ]
  },
  {
   "cell_type": "code",
   "execution_count": 7,
   "metadata": {},
   "outputs": [
    {
     "data": {
      "text/plain": [
       "<matplotlib.axes._subplots.AxesSubplot at 0x117193be0>"
      ]
     },
     "execution_count": 7,
     "metadata": {},
     "output_type": "execute_result"
    },
    {
     "data": {
      "image/png": "[encoded data removed]",
      "text/plain": [
       "<matplotlib.figure.Figure at 0x117193f28>"
      ]
     },
     "metadata": {},
     "output_type": "display_data"
    }
   ],
   "source": [
    "pd.Series(tweets[\"airline\"]).value_counts().plot(kind = \"bar\",figsize=(8,6),rot = 0)"
   ]
  },
  {
   "cell_type": "code",
   "execution_count": 8,
   "metadata": {},
   "outputs": [
    {
     "data": {
      "text/plain": [
       "<matplotlib.axes._subplots.AxesSubplot at 0x115f9abe0>"
      ]
     },
     "execution_count": 8,
     "metadata": {},
     "output_type": "execute_result"
    },
    {
     "data": {
      "image/png": "[encoded data removed]",
      "text/plain": [
       "<matplotlib.figure.Figure at 0x1125df358>"
      ]
     },
     "metadata": {},
     "output_type": "display_data"
    }
   ],
   "source": [
    "pd.crosstab(index = tweets[\"airline\"],columns = tweets[\"airline_sentiment\"]).plot(kind='bar',figsize=(10, 6),alpha=0.5,rot=0,stacked=True,title=\"Sentiment by airline\")"
   ]
  },
  {
   "cell_type": "markdown",
   "metadata": {},
   "source": [
    "# Exercise 8.1 \n",
    "\n",
    "Predict the sentiment using CountVectorizer, stopwords, n_grams, stemmer, TfidfVectorizer\n",
    "\n",
    "use Random Forest classifier"
   ]
  },
  {
   "cell_type": "code",
   "execution_count": 9,
   "metadata": {},
   "outputs": [],
   "source": [
    "# ya está partido en X y Y, crear un Random Forest para predecir el sentimiento de los Tweets\n",
    "# count vectorizer, hacer el flujo como el notebook 19."
   ]
  },
  {
   "cell_type": "code",
   "execution_count": 10,
   "metadata": {},
   "outputs": [],
   "source": [
    "from sklearn.model_selection import train_test_split, cross_val_score\n",
    "from sklearn.feature_extraction.text import CountVectorizer, TfidfVectorizer\n",
    "from sklearn.ensemble import RandomForestClassifier\n",
    "from nltk.stem.snowball import SnowballStemmer\n",
    "from nltk.stem import WordNetLemmatizer"
   ]
  },
  {
   "cell_type": "code",
   "execution_count": 11,
   "metadata": {},
   "outputs": [],
   "source": [
    "X = tweets['text']\n",
    "y = tweets['airline_sentiment'].map({'negative':-1,'neutral':0,'positive':1})"
   ]
  },
  {
   "cell_type": "code",
   "execution_count": 12,
   "metadata": {},
   "outputs": [
    {
     "data": {
      "text/plain": [
       "count    14640.000000\n",
       "mean        -0.465505\n",
       "std          0.756084\n",
       "min         -1.000000\n",
       "25%         -1.000000\n",
       "50%         -1.000000\n",
       "75%          0.000000\n",
       "max          1.000000\n",
       "Name: airline_sentiment, dtype: float64"
      ]
     },
     "execution_count": 12,
     "metadata": {},
     "output_type": "execute_result"
    }
   ],
   "source": [
    "y.describe()"
   ]
  },
  {
   "cell_type": "code",
   "execution_count": 13,
   "metadata": {},
   "outputs": [
    {
     "name": "stderr",
     "output_type": "stream",
     "text": [
      "Using TensorFlow backend.\n"
     ]
    }
   ],
   "source": [
    "from keras.utils import np_utils\n",
    "y_train= np_utils.to_categorical(y, 3)"
   ]
  },
  {
   "cell_type": "markdown",
   "metadata": {},
   "source": [
    "We will split our data into train a test"
   ]
  },
  {
   "cell_type": "code",
   "execution_count": 14,
   "metadata": {},
   "outputs": [],
   "source": [
    "X_train, X_test, y_train, y_test = train_test_split(X, y_train, test_size=0.33, random_state=42)"
   ]
  },
  {
   "cell_type": "code",
   "execution_count": 15,
   "metadata": {},
   "outputs": [
    {
     "data": {
      "text/plain": [
       "(9808, 12056)"
      ]
     },
     "execution_count": 15,
     "metadata": {},
     "output_type": "execute_result"
    }
   ],
   "source": [
    "vect = CountVectorizer()\n",
    "X_dtm = vect.fit_transform(X_train)\n",
    "X_dtm.shape"
   ]
  },
  {
   "cell_type": "code",
   "execution_count": 16,
   "metadata": {},
   "outputs": [
    {
     "name": "stdout",
     "output_type": "stream",
     "text": [
      "['xc6jq70r7b', 'xcvqxykg49', 'xd', 'xdjzkc34gb', 'xedeckgmw5', 'xf9mpnaaje', 'xgfs6tjtmo', 'xgpaayfdwt', 'xhsuupheze', 'xijifymvqp', 'xm', 'xmrvr4lgeg', 'xmz3tf9ix8', 'xna', 'xox', 'xoxo', 'xpm98igqjn', 'xrdtov7nl8', 'xtra', 'xx', 'xx2m2jxqep', 'xx5qscjll1', 'xxppzo88j1', 'xxsaombdgs', 'xxy2d2imnp', 'xzbajmiekx', 'xzmscw', 'y3sahvx3zk', 'y5qe9hcqzt', 'ya', 'yaffasolin', 'yall', 'yards', 'yasss', 'yasssss', 'yay', 'yayayay', 'ybmbgs0dhn', 'yc7v2s0iod', 'yco9dikpt9', 'yday', 'yea', 'yeah', 'year', 'yearly', 'years', 'yeehaw', 'yeg', 'yell', 'yelled']\n"
     ]
    }
   ],
   "source": [
    "print(vect.get_feature_names()[-150:-100])"
   ]
  },
  {
   "cell_type": "code",
   "execution_count": 17,
   "metadata": {},
   "outputs": [
    {
     "data": {
      "text/plain": [
       "(9808, 87608)"
      ]
     },
     "execution_count": 17,
     "metadata": {},
     "output_type": "execute_result"
    }
   ],
   "source": [
    "vect = CountVectorizer(ngram_range=(1, 2))\n",
    "X_dtm = vect.fit_transform(X_train)\n",
    "X_dtm.shape"
   ]
  },
  {
   "cell_type": "code",
   "execution_count": 18,
   "metadata": {},
   "outputs": [
    {
     "data": {
      "text/plain": [
       "6489"
      ]
     },
     "execution_count": 18,
     "metadata": {},
     "output_type": "execute_result"
    }
   ],
   "source": [
    "X_dtm.todense()[0].argmax()"
   ]
  },
  {
   "cell_type": "markdown",
   "metadata": {},
   "source": [
    "The most common word is am on the training data set"
   ]
  },
  {
   "cell_type": "code",
   "execution_count": 19,
   "metadata": {},
   "outputs": [
    {
     "data": {
      "text/plain": [
       "'am'"
      ]
     },
     "execution_count": 19,
     "metadata": {},
     "output_type": "execute_result"
    }
   ],
   "source": [
    "vect.get_feature_names()[6489]"
   ]
  },
  {
   "cell_type": "markdown",
   "metadata": {},
   "source": [
    "# CountVectorizer"
   ]
  },
  {
   "cell_type": "markdown",
   "metadata": {},
   "source": [
    "This technique just consider the top max_features ordered by term frequency across the corpus."
   ]
  },
  {
   "cell_type": "markdown",
   "metadata": {},
   "source": [
    "Using a CountVectorizer and a Random forest as classifier without any calibration we got an accuracy of 0.6322"
   ]
  },
  {
   "cell_type": "code",
   "execution_count": 21,
   "metadata": {},
   "outputs": [
    {
     "data": {
      "text/plain": [
       "count    10.000000\n",
       "mean      0.632238\n",
       "std       0.017588\n",
       "min       0.591233\n",
       "25%       0.627551\n",
       "50%       0.635066\n",
       "75%       0.642966\n",
       "max       0.655454\n",
       "dtype: float64"
      ]
     },
     "execution_count": 21,
     "metadata": {},
     "output_type": "execute_result"
    }
   ],
   "source": [
    "# Default CountVectorizer\n",
    "vect = CountVectorizer()\n",
    "X_dtm = vect.fit_transform(X_train)\n",
    "\n",
    "# use Naive Bayes to predict the star rating\n",
    "np.random.seed(123)\n",
    "RF = RandomForestClassifier()\n",
    "pd.Series(cross_val_score(RF, X_dtm, y_train, cv=10)).describe()"
   ]
  },
  {
   "cell_type": "code",
   "execution_count": 37,
   "metadata": {},
   "outputs": [],
   "source": [
    "# define a function that accepts a vectorizer and calculates the accuracy\n",
    "def tokenize_test(vect):\n",
    "    X_dtm = vect.fit_transform(X_train)\n",
    "    print('Features: ', X_dtm.shape[1])\n",
    "    RF = RandomForestClassifier()\n",
    "    print(pd.Series(cross_val_score(RF, X_dtm, y_train, cv=10)).describe())"
   ]
  },
  {
   "cell_type": "code",
   "execution_count": 41,
   "metadata": {},
   "outputs": [
    {
     "name": "stdout",
     "output_type": "stream",
     "text": [
      "Features:  87608\n",
      "count    10.000000\n",
      "mean      0.649163\n",
      "std       0.017322\n",
      "min       0.607543\n",
      "25%       0.643968\n",
      "50%       0.649337\n",
      "75%       0.661060\n",
      "max       0.667686\n",
      "dtype: float64\n"
     ]
    }
   ],
   "source": [
    "# include 1-grams and 2-grams\n",
    "np.random.seed(123)\n",
    "vect = CountVectorizer(ngram_range=(1, 2))\n",
    "tokenize_test(vect)"
   ]
  },
  {
   "cell_type": "markdown",
   "metadata": {},
   "source": [
    "## StopWords function"
   ]
  },
  {
   "cell_type": "markdown",
   "metadata": {},
   "source": [
    "Using the Stopwords function we got an accuracy of 0.634376"
   ]
  },
  {
   "cell_type": "code",
   "execution_count": 25,
   "metadata": {},
   "outputs": [
    {
     "name": "stdout",
     "output_type": "stream",
     "text": [
      "Features:  11777\n",
      "count    10.000000\n",
      "mean      0.634376\n",
      "std       0.019255\n",
      "min       0.603466\n",
      "25%       0.625860\n",
      "50%       0.638124\n",
      "75%       0.647044\n",
      "max       0.657492\n",
      "dtype: float64\n"
     ]
    }
   ],
   "source": [
    "# remove English stop words\n",
    "np.random.seed(123)\n",
    "vect_1 = CountVectorizer(stop_words='english')\n",
    "tokenize_test(vect_1)"
   ]
  },
  {
   "cell_type": "markdown",
   "metadata": {},
   "source": [
    "# Including ngrams"
   ]
  },
  {
   "cell_type": "code",
   "execution_count": 27,
   "metadata": {},
   "outputs": [
    {
     "name": "stdout",
     "output_type": "stream",
     "text": [
      "Features:  1000\n",
      "count    10.000000\n",
      "mean      0.641109\n",
      "std       0.016062\n",
      "min       0.604485\n",
      "25%       0.637337\n",
      "50%       0.642529\n",
      "75%       0.646279\n",
      "max       0.661570\n",
      "dtype: float64\n"
     ]
    }
   ],
   "source": [
    "# include 1-grams and 2-grams, and limit the number of features\n",
    "np.random.seed(123)\n",
    "vect_2 = CountVectorizer(ngram_range=(1, 2), max_features=1000)\n",
    "tokenize_test(vect_2)"
   ]
  },
  {
   "cell_type": "markdown",
   "metadata": {},
   "source": [
    "We will include a \"cut off\" in the model using the min_df parameter, so this means that the model will ignore terms that have a document frequency strictly higher than the given threshold"
   ]
  },
  {
   "cell_type": "code",
   "execution_count": 38,
   "metadata": {},
   "outputs": [
    {
     "name": "stdout",
     "output_type": "stream",
     "text": [
      "Features:  22011\n",
      "count    10.000000\n",
      "mean      0.649570\n",
      "std       0.014517\n",
      "min       0.623853\n",
      "25%       0.644495\n",
      "50%       0.653238\n",
      "75%       0.655454\n",
      "max       0.675841\n",
      "dtype: float64\n"
     ]
    }
   ],
   "source": [
    "# include 1-grams and 2-grams, and only include terms that appear at least 2 times\n",
    "np.random.seed(123)\n",
    "vect = CountVectorizer(ngram_range=(1, 2), min_df=2)\n",
    "tokenize_test(vect)"
   ]
  },
  {
   "cell_type": "code",
   "execution_count": null,
   "metadata": {},
   "outputs": [],
   "source": [
    "#TfidfVectorizer"
   ]
  },
  {
   "cell_type": "markdown",
   "metadata": {},
   "source": [
    "# Stemming"
   ]
  },
  {
   "cell_type": "code",
   "execution_count": 32,
   "metadata": {},
   "outputs": [],
   "source": [
    "stemmer = SnowballStemmer('english')"
   ]
  },
  {
   "cell_type": "code",
   "execution_count": 33,
   "metadata": {},
   "outputs": [],
   "source": [
    "# define a function that accepts text and returns a list of lemmas\n",
    "def split_into_steamer(text):\n",
    "    text = text.lower()\n",
    "    words = text.split()\n",
    "    return [stemmer.stem(word) for word in words]"
   ]
  },
  {
   "cell_type": "code",
   "execution_count": 34,
   "metadata": {},
   "outputs": [
    {
     "name": "stdout",
     "output_type": "stream",
     "text": [
      "Features:  18559\n",
      "count    10.000000\n",
      "mean      0.621226\n",
      "std       0.015219\n",
      "min       0.589195\n",
      "25%       0.621050\n",
      "50%       0.622834\n",
      "75%       0.630640\n",
      "max       0.638124\n",
      "dtype: float64\n"
     ]
    }
   ],
   "source": [
    "np.random.seed(123)\n",
    "vect = CountVectorizer(analyzer=split_into_steamer)\n",
    "tokenize_test(vect)"
   ]
  },
  {
   "cell_type": "markdown",
   "metadata": {},
   "source": [
    "# Lemmatization"
   ]
  },
  {
   "cell_type": "code",
   "execution_count": 35,
   "metadata": {},
   "outputs": [],
   "source": [
    "from nltk.stem import WordNetLemmatizer\n",
    "wordnet_lemmatizer = WordNetLemmatizer()"
   ]
  },
  {
   "cell_type": "code",
   "execution_count": 36,
   "metadata": {},
   "outputs": [
    {
     "name": "stdout",
     "output_type": "stream",
     "text": [
      "[nltk_data] Downloading package wordnet to /Users/jfrank/nltk_data...\n",
      "[nltk_data]   Package wordnet is already up-to-date!\n"
     ]
    },
    {
     "data": {
      "text/plain": [
       "True"
      ]
     },
     "execution_count": 36,
     "metadata": {},
     "output_type": "execute_result"
    }
   ],
   "source": [
    "import nltk\n",
    "nltk.download('wordnet')"
   ]
  },
  {
   "cell_type": "code",
   "execution_count": 37,
   "metadata": {},
   "outputs": [],
   "source": [
    "# define a function that accepts text and returns a list of lemmas\n",
    "def split_into_lemmas(text):\n",
    "    text = text.lower()\n",
    "    words = text.split()\n",
    "    return [wordnet_lemmatizer.lemmatize(word) for word in words]"
   ]
  },
  {
   "cell_type": "code",
   "execution_count": 38,
   "metadata": {},
   "outputs": [
    {
     "name": "stdout",
     "output_type": "stream",
     "text": [
      "Features:  20084\n",
      "count    10.000000\n",
      "mean      0.620920\n",
      "std       0.019799\n",
      "min       0.583078\n",
      "25%       0.609993\n",
      "50%       0.618049\n",
      "75%       0.635066\n",
      "max       0.650357\n",
      "dtype: float64\n"
     ]
    }
   ],
   "source": [
    "# use split_into_lemmas as the feature extraction function (WARNING: SLOW!)\n",
    "np.random.seed(123)\n",
    "vect = CountVectorizer(analyzer=split_into_lemmas)\n",
    "tokenize_test(vect)"
   ]
  },
  {
   "cell_type": "markdown",
   "metadata": {},
   "source": [
    "Finally we will prove using Tfidtfvectorizer to see which are the most common words on all this tweets"
   ]
  },
  {
   "cell_type": "code",
   "execution_count": 20,
   "metadata": {},
   "outputs": [
    {
     "data": {
      "text/plain": [
       "(14640, 14770)"
      ]
     },
     "execution_count": 20,
     "metadata": {},
     "output_type": "execute_result"
    }
   ],
   "source": [
    "# create a document-term matrix using TF-IDF\n",
    "vect = TfidfVectorizer(stop_words='english')\n",
    "dtm = vect.fit_transform(X)\n",
    "features = vect.get_feature_names()\n",
    "dtm.shape"
   ]
  },
  {
   "cell_type": "code",
   "execution_count": 26,
   "metadata": {},
   "outputs": [],
   "source": [
    "# create a dictionary of words and their TF-IDF scores\n",
    "word_scores = {}\n",
    "for word in vect.vocabulary_.keys():\n",
    "    word = word.lower()\n",
    "    if word in features:\n",
    "        word_scores[word] = dtm[review_id, features.index(word)]"
   ]
  },
  {
   "cell_type": "code",
   "execution_count": 28,
   "metadata": {},
   "outputs": [
    {
     "name": "stdout",
     "output_type": "stream",
     "text": [
      "TOP SCORING WORDS:\n",
      "hollywood\n",
      "dw5nf0ibtr\n",
      "los\n",
      "angeles\n",
      "mountains\n",
      "downtown\n",
      "rain\n",
      "view\n",
      "sign\n",
      "virginamerica\n"
     ]
    }
   ],
   "source": [
    "# print words with the top 5 TF-IDF scores\n",
    "print('TOP SCORING WORDS:')\n",
    "top_scores = sorted(word_scores.items(), key=lambda x: x[1], reverse=True)[:10]\n",
    "for word, score in top_scores:\n",
    "    print(word)"
   ]
  },
  {
   "cell_type": "markdown",
   "metadata": {},
   "source": [
    "We listed here the 10 most common words on our database and we found that the most common word is Hollywood follow it by and strange word, maybe is an user which has been mentioned a lot on this network."
   ]
  },
  {
   "cell_type": "code",
   "execution_count": 87,
   "metadata": {},
   "outputs": [
    {
     "data": {
      "image/png": "[encoded data removed]",
      "text/plain": [
       "<matplotlib.figure.Figure at 0x1a31cdb668>"
      ]
     },
     "metadata": {},
     "output_type": "display_data"
    }
   ],
   "source": [
    "import matplotlib.pyplot as plt\n",
    "plt.figure(figsize=(12,6))\n",
    "plt.bar([\"CountVectorizer\",\"StopWords\",\"ngrams\",\"Stemming\", \"Lemmatization\"],[0.649,0.6343,0.649,0.6212, 0.6209],color=\"orange\",align='center')\n",
    "plt.title(\"Comparison of kernel Initializer\")\n",
    "plt.xlabel(\"\",fontsize=12)\n",
    "plt.ylabel(\"Accuracy\")\n",
    "plt.show()"
   ]
  },
  {
   "cell_type": "markdown",
   "metadata": {},
   "source": [
    "the best model was the ngrams one, so we will use it to train the Neural Network"
   ]
  },
  {
   "cell_type": "markdown",
   "metadata": {},
   "source": [
    "# Exercise 8.2\n",
    "\n",
    "Train a Deep Neural Network with the following architecture:\n",
    "\n",
    "- Input = text \n",
    "- Dense(128)\n",
    "- Relu Activation\n",
    "- BatchNormalization\n",
    "- Dropout(0.5)\n",
    "- Dense(10, Softmax)\n",
    "\n",
    "Optimized using rmsprop using as loss categorical_crossentropy\n",
    "\n",
    "Hints: \n",
    "- test with two iterations then try more. \n",
    "- learning can be ajusted\n",
    "\n",
    "Evaluate the performance using the testing set (aprox 55% with 50 epochs)"
   ]
  },
  {
   "cell_type": "code",
   "execution_count": 60,
   "metadata": {},
   "outputs": [],
   "source": [
    "from keras.models import Sequential\n",
    "from keras.utils import np_utils\n",
    "from keras.layers import Dense, Dropout, Activation, BatchNormalization\n",
    "from keras.optimizers import rmsprop\n",
    "from keras.callbacks import History\n",
    "from livelossplot import PlotLossesKeras"
   ]
  },
  {
   "cell_type": "code",
   "execution_count": 66,
   "metadata": {},
   "outputs": [
    {
     "name": "stdout",
     "output_type": "stream",
     "text": [
      "_________________________________________________________________\n",
      "Layer (type)                 Output Shape              Param #   \n",
      "=================================================================\n",
      "dense_11 (Dense)             (None, 128)               2817536   \n",
      "_________________________________________________________________\n",
      "activation_6 (Activation)    (None, 128)               0         \n",
      "_________________________________________________________________\n",
      "batch_normalization_6 (Batch (None, 128)               512       \n",
      "_________________________________________________________________\n",
      "dropout_6 (Dropout)          (None, 128)               0         \n",
      "_________________________________________________________________\n",
      "dense_12 (Dense)             (None, 10)                1290      \n",
      "_________________________________________________________________\n",
      "dense_13 (Dense)             (None, 3)                 33        \n",
      "=================================================================\n",
      "Total params: 2,819,371\n",
      "Trainable params: 2,819,115\n",
      "Non-trainable params: 256\n",
      "_________________________________________________________________\n"
     ]
    }
   ],
   "source": [
    "model = Sequential()\n",
    "model.add(Dense(128, input_shape=(22011,)))\n",
    "model.add(Activation('relu'))\n",
    "model.add(BatchNormalization())\n",
    "model.add(Dropout(0.5,seed=123))\n",
    "model.add(Dense(10, activation='softmax'))\n",
    "model.add(Dense(3, activation='softmax'))\n",
    "model.summary()"
   ]
  },
  {
   "cell_type": "code",
   "execution_count": 67,
   "metadata": {},
   "outputs": [],
   "source": [
    "model.compile(loss='categorical_crossentropy',\n",
    "              optimizer=rmsprop(lr=0.0001), metrics=[\"accuracy\"])"
   ]
  },
  {
   "cell_type": "code",
   "execution_count": 68,
   "metadata": {},
   "outputs": [],
   "source": [
    "X_dtm = vect.fit_transform(X_train)"
   ]
  },
  {
   "cell_type": "code",
   "execution_count": 69,
   "metadata": {},
   "outputs": [
    {
     "data": {
      "text/plain": [
       "((9808, 22011), (9808, 3))"
      ]
     },
     "execution_count": 69,
     "metadata": {},
     "output_type": "execute_result"
    }
   ],
   "source": [
    "X_dtm.shape, y_train.shape"
   ]
  },
  {
   "cell_type": "code",
   "execution_count": 70,
   "metadata": {},
   "outputs": [
    {
     "data": {
      "image/png": "[encoded data removed]",
      "text/plain": [
       "<matplotlib.figure.Figure at 0x1a505eccf8>"
      ]
     },
     "metadata": {},
     "output_type": "display_data"
    },
    {
     "data": {
      "text/plain": [
       "<keras.callbacks.History at 0x1a2ebe66d8>"
      ]
     },
     "execution_count": 70,
     "metadata": {},
     "output_type": "execute_result"
    }
   ],
   "source": [
    "np.random.seed(123)\n",
    "batch_size = 1000\n",
    "model.fit(X_dtm, y_train, epochs = 50, verbose = 2, batch_size=batch_size, validation_split=0.1,callbacks=[PlotLossesKeras()])\n"
   ]
  },
  {
   "cell_type": "code",
   "execution_count": 71,
   "metadata": {},
   "outputs": [],
   "source": [
    "X_test_1 = vect.transform(X_test)"
   ]
  },
  {
   "cell_type": "code",
   "execution_count": 72,
   "metadata": {},
   "outputs": [],
   "source": [
    "model_pred_1 = model.predict_classes(X_test_1)"
   ]
  },
  {
   "cell_type": "code",
   "execution_count": 73,
   "metadata": {},
   "outputs": [],
   "source": [
    "y_test_1 = y_test.argmax(axis=1)"
   ]
  },
  {
   "cell_type": "code",
   "execution_count": 74,
   "metadata": {},
   "outputs": [
    {
     "name": "stdout",
     "output_type": "stream",
     "text": [
      "the prediction model is= 0.793667218543\n"
     ]
    }
   ],
   "source": [
    "print('the prediction model is=',(model_pred_1==y_test_1).mean())"
   ]
  },
  {
   "cell_type": "markdown",
   "metadata": {},
   "source": [
    "All the previous models got an accuracy between 0.62 and 0.65 and using a simple Neural Network the accuracy of the model increase between 0.78 and 0.8."
   ]
  },
  {
   "cell_type": "code",
   "execution_count": 75,
   "metadata": {},
   "outputs": [
    {
     "data": {
      "image/png": "[encoded data removed]",
      "text/plain": [
       "<matplotlib.figure.Figure at 0x1a2e84e630>"
      ]
     },
     "metadata": {},
     "output_type": "display_data"
    }
   ],
   "source": [
    "import matplotlib.pyplot as plt\n",
    "plt.figure(figsize=(12,6))\n",
    "plt.bar([\"CountVectorizer\",\"StopWords\",\"ngrams\",\"Stemming\", \"Lemmatization\",\"NN\"],[0.649,0.6343,0.649,0.6212, 0.6209, 0.7926],color=\"orange\",align='center')\n",
    "plt.title(\"Comparison of kernel Initializer\")\n",
    "plt.xlabel(\"\",fontsize=12)\n",
    "plt.ylabel(\"Accuracy\")\n",
    "plt.show()"
   ]
  },
  {
   "cell_type": "code",
   "execution_count": null,
   "metadata": {},
   "outputs": [],
   "source": []
  }
 ],
 "metadata": {
  "kernelspec": {
   "display_name": "Python 3",
   "language": "python",
   "name": "python3"
  },
  "language_info": {
   "codemirror_mode": {
    "name": "ipython",
    "version": 3
   },
   "file_extension": ".py",
   "mimetype": "text/x-python",
   "name": "python",
   "nbconvert_exporter": "python",
   "pygments_lexer": "ipython3",
   "version": "3.6.3"
  }
 },
 "nbformat": 4,
 "nbformat_minor": 2
}
